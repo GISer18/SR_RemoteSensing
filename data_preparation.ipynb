{
 "cells": [
  {
   "cell_type": "code",
   "execution_count": 1,
   "metadata": {},
   "outputs": [],
   "source": [
    "from __future__ import print_function\n",
    "%matplotlib inline\n",
    "import random\n",
    "import os\n",
    "import numpy as np\n",
    "import cv2\n",
    "import torch\n",
    "from skimage import io\n",
    "from tqdm import tqdm\n",
    "import matplotlib.pyplot as plt\n",
    "import sewar.full_ref as fr"
   ]
  },
  {
   "cell_type": "code",
   "execution_count": null,
   "metadata": {
    "collapsed": true
   },
   "outputs": [],
   "source": [
    "def rename_save(filename, input_dir, out_dir, scale=10000.):\n",
    "    \"\"\"\n",
    "    convert .tif (landsat/sentinal) uint16 [0-10000] to float32 [0, 1]\n",
    "    \"\"\"\n",
    "    #fn = filename.split(\".\")\n",
    "    file = input_dir + filename\n",
    "    img = io.imread(file)\n",
    "    img[img < 0] = 1\n",
    "    img[img > scale] = scale\n",
    "    img = img.astype(np.float32) / scale\n",
    "    \n",
    "    if not os.path.exists(out_dir):\n",
    "        os.mkdir(out_dir)\n",
    "    #else:\n",
    "        #print(\"Warning: dir {} already exists\".format(out_dir))\n",
    "\n",
    "    out_f = \"{}/{}\".format(out_dir, filename)   \n",
    "    io.imsave(out_f, img)"
   ]
  },
  {
   "cell_type": "code",
   "execution_count": null,
   "metadata": {
    "collapsed": true
   },
   "outputs": [],
   "source": [
    "def split_data_percent(percent, input_dir, test_num = 0):\n",
    "    \"\"\"\n",
    "    split data into train, validation and test. \n",
    "    \n",
    "    percent: precent of training data. percent of val is 1 - percent.\n",
    "    test_num: number of images in test. \n",
    "\n",
    "    \"\"\"\n",
    "    \n",
    "    filenames = os.listdir(input_dir)\n",
    "    #print(len(filenames))\n",
    "    \n",
    "    random.seed(100)  #230\n",
    "    filenames.sort()\n",
    "    random.shuffle(filenames)\n",
    "    \n",
    "    test_filenames = filenames[:test_num]\n",
    "\n",
    "    split = int(percent * (len(filenames) - test_num))\n",
    "\n",
    "    train_filenames = filenames[test_num : test_num + split]\n",
    "    val_filenames = filenames[test_num + split:]\n",
    "    \n",
    "    \n",
    "    filename_dic = {\"train_filenames\": train_filenames,\n",
    "                   \"val_filenames\": val_filenames,\n",
    "                   \"test_filenames\": test_filenames}\n",
    "    return filename_dic"
   ]
  },
  {
   "cell_type": "code",
   "execution_count": null,
   "metadata": {
    "collapsed": true
   },
   "outputs": [],
   "source": [
    "def split_data(val_num, test_num, input_dir):\n",
    "    \"\"\"\n",
    "    split data into train, test and val.\n",
    "    val_num: number of images in val\n",
    "    test_num: number of images in test\n",
    "    \"\"\"\n",
    "    filenames = os.listdir(input_dir)\n",
    "    #print(len(filenames))\n",
    "    \n",
    "    random.seed(10)  #230\n",
    "    filenames.sort()\n",
    "    random.shuffle(filenames)\n",
    "    \n",
    "    split = len(filenames) - val_num - test_num\n",
    "\n",
    "    train_filenames = filenames[:split]\n",
    "    val_filenames = filenames[split:split+val_num]\n",
    "    test_filenames = filenames[split+val_num:]\n",
    "    \n",
    "    #print(len(train_filenames), len(val_filenames))\n",
    "    #print(val_filenames)\n",
    "    #print(test_filenames)\n",
    "    filename_dic = {\"train_filenames\": train_filenames,\n",
    "                   \"val_filenames\": val_filenames,\n",
    "                   \"test_filenames\": test_filenames}\n",
    "    return filename_dic"
   ]
  },
  {
   "cell_type": "code",
   "execution_count": null,
   "metadata": {
    "collapsed": true
   },
   "outputs": [],
   "source": [
    "### convert Landsat/Sentinal datasets from uint16 [0-10000] to float32 [0-1], split data into train/dev/test\n",
    "data_dir_HR = \"/home/Jing/SR/data/Training-1223/HR/\"\n",
    "data_dir_x3 = \"/home/Jing/SR/data/Training-1223/LR-x3/\"\n",
    "\n",
    "output_dir = \"/home/Jing/SR/data/Sentinel_Landsat/\"\n",
    "\n",
    "Sentinel = split_data_percent(0.9, data_dir_HR, 37)\n",
    "\n",
    "for dirc in ['train', 'val', 'test']:\n",
    "    out_dir_HR = output_dir + \"{}/HR\".format(dirc)\n",
    "    out_dir_x3 = output_dir + \"{}/x3\".format(dirc)\n",
    "    #print(out_dir_HR, out_dir_x3)\n",
    "    #in_dir_HR_L = data_dir_L + \"{}/{}-HR/\".format(dirc, dirc)\n",
    "    #in_dir_x4_L = data_dir_L + \"{}/{}-LRx4/\".format(dirc, dirc)\n",
    "    \n",
    "#     for filename in tqdm(NAIP[\"{}_filenames\".format(dirc)]):\n",
    "#         rename_save(filename, data_dir_HR_N, out_dir_HR, 255.)\n",
    "#         x4_name = \"x4_\" + filename\n",
    "#         #print(x4_file)\n",
    "#         rename_save(x4_name, data_dir_x4_N, out_dir_x4, 255.)\n",
    "\n",
    "    for filename in tqdm(Sentinel[\"{}_filenames\".format(dirc)]):\n",
    "        rename_save(filename, data_dir_HR, out_dir_HR, 10000.)\n",
    "        name = filename.split(\"_\")[1]\n",
    "        x3_name = \"LRx3_\" + name\n",
    "        #print(x3_name)\n",
    "        rename_save(x3_name, data_dir_x3, out_dir_x3, 10000.)"
   ]
  }
 ],
 "metadata": {
  "kernelspec": {
   "display_name": "Python 3",
   "language": "python",
   "name": "python3"
  },
  "language_info": {
   "codemirror_mode": {
    "name": "ipython",
    "version": 3
   },
   "file_extension": ".py",
   "mimetype": "text/x-python",
   "name": "python",
   "nbconvert_exporter": "python",
   "pygments_lexer": "ipython3",
   "version": "3.6.1"
  }
 },
 "nbformat": 4,
 "nbformat_minor": 2
}
